{
  "cells": [
    {
      "attachments": {},
      "cell_type": "markdown",
      "metadata": {},
      "source": [
        "<div id=\"header\" style=\"text-align: center\">\n",
        "    <img src=\"../assets/uni-logo.png\" alt=\"image_description\" style=\"width: 60%;\">\n",
        "    <h1 align="center">Implementimi i Sistemit të Lorenz-it në MATLAB/GNU Octave</h1>\n",
        "</p>"
      ]
    },
    {
      "attachments": {},
      "cell_type": "markdown",
      "metadata": {},
      "source": [
        "## Sistemi i Lorenz-it\n",
        "\n",
        "Sistemi i Lorenz-it paraqet një model matematik të përbërë nga një sistem me tri ekuacione diferenciale, \n",
        "të cilat përshkruajnë sjelljen e një sistemi 2 dimensional dhe ndryshimin e tij në kohë. \n",
        "Në rastin e Sistemit të Lorenz-it,\n",
        "shohim evolucionin e tri variablave (pozicioneve përgjatë hapsirës 3 dimensionale) $x,y,z$ në kohë $t$.\n",
        "\n",
        "Sistemi i ekuacioneve të Sistemit të Lorenz-it e definojmë si vijon:\n",
        "\n",
        "\n",
        "> $$\n",
        "\\LARGE\n",
        "\\begin{cases}\n",
        "\\frac{dx}{dt} = \\sigma (y - x), \\\\ \n",
        "\\\\\n",
        "\\frac{dy}{dt} = x (\\rho - z) - y, \\\\ \n",
        "\\\\\n",
        "\\frac{dz}{dt} = xy - \\beta z.\n",
        "\\end{cases}\n",
        "$$\n",
        "\n",
        "Ekuacioni i parë përshkruan natyrën e variablës $x$ se si ndryshon pozitën e sajë në hapsirë me kalimin e kohës. \n",
        "Varet nga vlerat e $y$ dhe $x$ në kohën aktuale, \n",
        "dhe shumëzohet me një konstante të quajtur sigma ($\\sigma$). \n",
        "Ekuacioni i dytë përshkruan se si pozita $y$ ndryshon me kalimin e kohës. \n",
        "Kjo varet nga vlerat e $x$, $y$ dhe $z$ në momentin aktual dhe shumëzohet me një konstante të quajtur rho ($\\rho$). \n",
        "Ndërsa ekuacioni i tretë përshkruan se si pozita $z$ ndryshon me kalimin e kohës. \n",
        "Varet nga vlerat e $x$ dhe $y$ në momentin aktual dhe shumëzohet me një konstante të quajtur beta ($\\beta$). \n",
        "Të gjitha këto variabla pastaj me kalimin e kohës iterohen dhe kalkulohen si sistem i ekuacioneve diferenciale, të cilat pastaj shfrytëzojnë vleret e tyre paraprake për të kalkular pozitat e ardhshme, \n",
        "rrjedhimisht kështu duke simuluar lëvizjen në hapsirë.\n",
        "\n",
        "Çka e veçon Sistemin e Lorenz-it, është natyra e saj komplekse e cila pastaj e bën të vështirë e parashikueshmërinë se çka do t'ju ndodhë variablave $x$,$y$, dhe $z$ përgjatë kohës. \n",
        "Në disa raste, ky sistem prodhon sjellje kaotike, ku me ndryshimin më të vogël të parametrave në fillim të sistemit, mund të prodhohen rezultate tejet të ndryshme gjatë kohës.\n",
        "Kjo e bënë këtë sistem të paparashikueshëm në afate të gjata, nën vështrimin e një periudhe të shkurtër kohore."
      ]
    },
    {
      "attachments": {},
      "cell_type": "markdown",
      "metadata": {},
      "source": [
        "### Aplikimi i Sistemit të Lorenz-it\n",
        "\n",
        "Një nga aplikimet më të rëndësishme të sistemit Lorenz në jetën e përditshme mund të konstatojmë se është parashikimi i motit. \n",
        "Përmes Sistemit të Lorenz-it shkencëtarët mund të ndrëtojnë një model të thjeshtëzuar të qarkullimit atmosferik që drejton modelet e motit. \n",
        "Duke kuptuar sjelljen e sistemit Lorenz, meteorologët mund të fitojnë njohuri se si sillet atmosfera dhe rrjedhimisht të bëjnë parashikime më të sakta të motit.\n",
        "Sistemi Lorenz gjen zbatim gjithashtu edhe në fusha të tjera si ekonomia, biologjia dhe inxhinieria. \n",
        "Në ekonomi, sistemi përdoret për të modeluar sjelljen e tregjeve financiare. \n",
        "Në biologji, përdoret për të studiuar dinamikën e popullsisë. \n",
        "Ndërsa në inxhinieri, zbatim më të theksuar gjen në aerodinamikë, ku përdoret për të projektuar sisteme kontrolli për avionët dhe mjete të tjera komplekse fluturimi.\n"
      ]
    },
    {
      "attachments": {},
      "cell_type": "markdown",
      "metadata": {},
      "source": [
        "## Implementimi\n",
        "\n",
        "### Konstruktimi i sistemit të ekuacioneve\n",
        "\n",
        "Konstruktimin e sistemit të ekuacioneve në Octave e bëjmë fillimisht duke deklaruar konstantat $\\sigma$, $\\rho$ dhe $\\beta$. \n",
        "Duke shfytëzuar vetitë e Octave krijojmë një matricë $3 \\times 1$ e cila përmban ekuacionet të trajtuara më sipër. \n",
        "Për të kalkuluar sistemin e ekuacioneve diferenciale, në Octave mund të përdorim funksionin *ode45*. \n",
        "\n",
        "Duke eksperimentuar me disa vlera, ky implementim në kod merr formën si vijon:\n",
        "\n",
        "```octave\n",
        "rho    = 14;\n",
        "sigma  = 10;\n",
        "Beta   = 8/3;\n",
        "\n",
        "odeFun = @(t,x) [sigma*(x(2)-x(1)); x(1)*(rho-x(3))-x(2); x(1)*x(2)-Beta*x(3)];\n",
        "dt = 0:0.001:100;\n",
        "init = [1 1 1];\n",
        "[t,x] = ode45(odeFun,dt,init);\n",
        "```\n",
        "\n",
        "Paraqitjen grafike 3 dimensionale e arrijmë duke përdorur funksionin *plot3*:\n",
        "\n",
        "```octave\n",
        "figure(1, 'position', [0,0,1200,800])\n",
        "plot3(x(:,1),x(:,2),x(:,3),'Color', 'm', 'LineWidth', 1.5)\n",
        "grid on\n",
        "for i = 1:360\n",
        "    view(i,5);\n",
        "    pause(0.02);\n",
        "end\n",
        "\n",
        "rho    = 28;\n",
        "odeFun = @(t,x) [sigma*(x(2)-x(1)); x(1)*(rho-x(3))-x(2); x(1)*x(2)-Beta*x(3)];\n",
        "[t,x] = ode45(odeFun,dt,init);\n",
        "\n",
        "plot3(x(:,1),x(:,2),x(:,3),'Color', 'b', 'LineWidth', 1.5)\n",
        "grid on\n",
        "for i = 1:540\n",
        "    view(i,5);\n",
        "    pause(0.02);\n",
        "end\n",
        "\n",
        "hold all\n",
        "plot3(x(:,1),x(:,2),x(:,3),'Color', 'b', 'LineWidth', 1.5)\n",
        "\n",
        "init = [1.1 1 1]\n",
        "[t,x] = ode45(odeFun,dt,init);\n",
        "\n",
        "plot3(x(:,1),x(:,2),x(:,3),'Color', 'g', 'LineWidth', 1.5)\n",
        "grid on\n",
        "for i = 1:540\n",
        "    view(i,5);\n",
        "    pause(0.02);\n",
        "end\n",
        "hold off\n",
        "```\n",
        "\n",
        "Për të implementuar pamjen grafike ku shohim se cilën rrugë ndjek sistemi dhe ndryshimet kaotike në kalkulim përdorim funksionin *comet3*:\n",
        "\n",
        "```octave\n",
        "figure(2, 'position', [700,150,1200,800])\n",
        "grid on\n",
        "comet3(x(:,1),x(:,2),x(:,3));\n",
        "```"
      ]
    },
    {
      "cell_type": "code",
      "execution_count": null,
      "metadata": {
        "vscode": {
          "languageId": "python"
        }
      },
      "outputs": [
        {
          "name": "stdout",
          "output_type": "stream",
          "text": [
            "Warning: Ignoring XDG_SESSION_TYPE=wayland on Gnome. Use QT_QPA_PLATFORM=wayland to run on Wayland anyway.\n"
          ]
        }
      ],
      "source": [
        "!octave Lorenz.m"
      ]
    }
  ],
  "metadata": {
    "kernelspec": {
      "display_name": "Octave",
      "language": "python",
      "name": "octave"
    },
    "language_info": {
      "file_extension": ".m",
      "help_links": [
        {
          "text": "GNU Octave",
          "url": "https://www.gnu.org/software/octave/support.html"
        },
        {
          "text": "Octave Kernel",
          "url": "https://github.com/Calysto/octave_kernel"
        },
        {
          "text": "MetaKernel Magics",
          "url": "https://metakernel.readthedocs.io/en/latest/source/README.html"
        }
      ],
      "mimetype": "text/x-octave",
      "name": "octave",
      "version": "7.3.0"
    },
    "orig_nbformat": 4,
    "vscode": {
      "interpreter": {
        "hash": "acc82d61c1beef0ef762dc2d8ea255512c8f4be7dc78bc92c8eaffd878e31de5"
      }
    }
  },
  "nbformat": 4,
  "nbformat_minor": 2
}
