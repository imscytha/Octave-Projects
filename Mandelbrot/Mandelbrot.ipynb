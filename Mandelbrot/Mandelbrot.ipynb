{
  "cells": [
    {
      "attachments": {},
      "cell_type": "markdown",
      "metadata": {},
      "source": [
        "<div id=\"header\" style=\"text-align: center\">\n",
        "    <img src=\"../assets/uni-logo.png\" alt=\"image_description\" style=\"width: 60%;\">\n",
        "    <h1 align="center">Implementimi i Mandelbrot Set në MATLAB/GNU Octave</h1>\n",
        "</p>"
      ]
    },
    {
      "attachments": {},
      "cell_type": "markdown",
      "metadata": {},
      "source": [
        "## Mandelbrot Set\n",
        "\n",
        "Mandelbrot Set (Bashkësia e Mandelbrot) është një bashkësi e numrave kompleks, e cila është e definuar në këtë mënyrë: \n",
        "Një numër kompleks i takon Mandelbrot Set nëse ekuacioni rekruent \n",
        "$$Z_{n+1} = {Z_n}^2 + c$$ \n",
        "iterohet me kushtet\n",
        "- $Z_0 = 0$, \n",
        "- $\\mid Z_n \\mid < k,\\quad \\forall n \\quad$ dhe zakonisht $k=2$\n",
        "\n",
        "Në këtë rast ekuacioni $Z_{n+1} = {Z_n}^2 + c$ quhet ekuacioni Mandelbrot. \n",
        "Ky ekuacion përshkruan se si një numër kompleks, i përfaqësuar nga ndryshorja $Z$, ndryshon me kalimin e kohës, ose mbi numrin e përsëritjeve, n. Numri kompleks $c$ është një konstantë, dhe kjo përcakton sjelljen e ekuacionit.\n",
        "\n",
        "Mandelbrot Set zakonisht paraqitet grafikisht, me pjesën reale në boshtin $x$ dhe pjesën imagjinare në boshtin $y$. Pikat në grafik që i përkasin grupit Mandelbrot janë me ngjyrë të zezë, ndërsa pikat që nuk i përkasin grupit ngjyrosen sipas asaj se sa shpejt vlera absolute e Z kalon 2. Imazhi që rezulton është një fraktal, i cili është një formë gjeometrike që shfaq vetëngjashmëri në shkallë të ndryshme.\n",
        "\n",
        "Kompleti Mandelbrot ka shumë veti interesante dhe ka frymëzuar shumë kërkime matematikore. Është veçanërisht temë e njohur dhe e dëshiruar studimi në shkencat kompjuterike, pasi që mund të llogaritet dhe vizualizohet lehtësisht duke përdorur ndonjë gjuhë programuese.\n",
        "\n",
        "### Aplikimi në jetë\n",
        "\n",
        "Kompleti Mandelbrot nuk ka aplikime të drejtpërdrejta praktike, por ka frymëzuar zhvillimin e disa teknikave dhe algoritmeve që kanë aplikime praktike. \n",
        "Për shembull, koncepti i kohës së ikjes (escape time), i cili përdoret për të përcaktuar nëse një pikë i përket grupit Mandelbrot, aplikohet për kompresim të imazheve.\n",
        "\n",
        "Në kompresimin e imazhit, një imazh ndahet në blloqe dhe ekuacioni Mandelbrot përdoret për të koduar vlerat e pixel në secilin bllok. \n",
        "Konstanta $c$ zgjidhet e tillë që sjellja e ekuacionit të pasqyrojë vlerat e pixel në bllok. \n",
        "Numri i përsëritjeve të nevojshme që vlera absolute e $Z$ të tejkalojë një prag të caktuar përdoret si masë e kompleksitetit të bllokut dhe blloqet me më pak përsëritje mund të kodohen duke përdorur më pak bit. \n",
        "Kjo mundëson kompresim më efikas të imazhit.\n",
        "\n",
        "Mandelbrot Set ka frymëzuar gjithashtu zhvillimin e teknikave të tjera të bazuara në fraktal, \n",
        "të tilla si interpolimi fraktal dhe gjenerimi i imazheve fraktal, \n",
        "të cilat kanë aplikime në fusha të tilla si grafika kompjuterike dhe vizualizimi i të dhënave.\n",
        "\n",
        "Përveç aplikimeve praktike, Mandelbrot Set ka qenë gjithashtu objekt i shumë kërkimeve matematikore dhe ka frymëzuar zhvillimin e teknikave dhe koncepteve të reja matematikore. \n",
        "Vizualizimi i saj konsiderohet si një objekt i bukur dhe magjepsës në vetvete dhe studimi i tij ka kontribuar në të kuptuarit tonë të dinamikës komplekse dhe sjelljes së funksioneve të përsëritura."
      ]
    },
    {
      "attachments": {},
      "cell_type": "markdown",
      "metadata": {},
      "source": [
        "## Implementimi\n",
        "\n",
        "Implementimi i vizualizimit në Octave, merr formën si vijon:\n",
        "\n",
        "```octave\n",
        "max_iter  = 100;          % Numrin maksimal të iterimeve\n",
        "threshold = 2;            % Vendosim pragun k=2 \n",
        "\n",
        "img = zeros(1600, 1600);  % Krijojmë një imazh të thatë me dimenzione 1600x1600 pixels\n",
        "\n",
        "figure(1,'position', [400,100,1000,800]) % Krijojmë dritaren për të shfaqur imazhin\n",
        "\n",
        "% Duke shfrytëzuar natyrën simetrike të Mandelbrot Set, për shkaqe të efikasitetit iterojmë vetëm gjysmën e pikselëve\n",
        "for y = 1:800\n",
        "  for x = 1:1600\n",
        "    % Konvertojmë koordinatat e pixel në numra kompleks\n",
        "    z = (x - 800) / 400 + (y - 800) / 400 * 1i;\n",
        "\n",
        "    % Iterojmë funksionin f(z) = z^2 + c\n",
        "    c = z;\n",
        "    for n = 1:max_iter\n",
        "      if abs(z) > threshold\n",
        "        break\n",
        "      end\n",
        "      z = z^2 + c;\n",
        "    end\n",
        "\n",
        "    img(y, x) = n;             % Ruajmë numrin e iterimeve në imazh\n",
        "    \n",
        "    img(1600 - y + 1, x) = n;  % Shfrytëzojmë simetrinë e Mandelbrot Set për të mbushur gjysmën e poshtme të imazhit\n",
        "  end\n",
        "\n",
        "  % Përditësojmë paraqitjen grafike çdo 20 iterime për të parë ndryshimet në kohë reale\n",
        "  if mod(y, 20) == 0\n",
        "    imagesc(img);\n",
        "    colormap(jet);\n",
        "    drawnow;\n",
        "  end\n",
        "end\n",
        "\n",
        "% Shfaqim imazhin e fundit\n",
        "imagesc(img);\n",
        "colormap(jet);\n",
        "\n",
        "```"
      ]
    },
    {
      "cell_type": "code",
      "execution_count": 3,
      "metadata": {},
      "outputs": [
        {
          "name": "stdout",
          "output_type": "stream",
          "text": [
            "Warning: Ignoring XDG_SESSION_TYPE=wayland on Gnome. Use QT_QPA_PLATFORM=wayland to run on Wayland anyway.\n"
          ]
        }
      ],
      "source": [
        "!octave Mandelbrot.m"
      ]
    }
  ],
  "metadata": {
    "kernelspec": {
      "display_name": ".venv",
      "language": "python",
      "name": "python3"
    },
    "language_info": {
      "codemirror_mode": {
        "name": "ipython",
        "version": 3
      },
      "file_extension": ".py",
      "mimetype": "text/x-python",
      "name": "python",
      "nbconvert_exporter": "python",
      "pygments_lexer": "ipython3",
      "version": "3.10.9 (main, Dec 19 2022, 17:35:49) [GCC 12.2.0]"
    },
    "orig_nbformat": 4,
    "vscode": {
      "interpreter": {
        "hash": "57f7c3d2e1e02a0c373093744cb97714d59b52136798a044ea008f4043650922"
      }
    }
  },
  "nbformat": 4,
  "nbformat_minor": 2
}
